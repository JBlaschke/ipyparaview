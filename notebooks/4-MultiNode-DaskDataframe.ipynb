{
 "cells": [
  {
   "cell_type": "markdown",
   "metadata": {},
   "source": [
    "# Multi-Node Rendering with Dask-MPI and Dask.Dataframe\n",
    "Similar to the multi-node Dask.Array example, we take the work we did to get a dataframe rendered on a single node and distribute it via Dask. We run the scheduler in the same way as that example--one `mpiexec` call to start the scheduler process, and a second to run all of the workers and connect to it. The `runCluster.sh` shows the full commands in detail. We set an option when invoking the scheduler to create a scheduler file in the local directory, `scheduler.json`, which contains the details we need to connect to the scheduler process from the client."
   ]
  },
  {
   "cell_type": "code",
   "execution_count": null,
   "metadata": {},
   "outputs": [],
   "source": [
    "from dask.distributed import Client, Sub, Pub, fire_and_forget, wait\n",
    "client = Client(scheduler_file='scheduler.json', set_as_default=True) #Connect to the Dask scheduler\n",
    "\n",
    "N = len(client.scheduler_info()['workers']) #Get the number of workers in our cluster\n",
    "print(\"Connected to cluster with\", N, \"workers\")"
   ]
  },
  {
   "cell_type": "markdown",
   "metadata": {},
   "source": [
    "Dask.Dataframe lets us read from the source CSV file directly. We call `repartition` and `persist` to load the data into `N` chunks before rebalancing across the cluster. For convenience, we also store the names of the variables that we intend to use as 3D coordinates."
   ]
  },
  {
   "cell_type": "code",
   "execution_count": null,
   "metadata": {},
   "outputs": [],
   "source": [
    "# Read and repartition the data\n",
    "import dask.dataframe as dd\n",
    "df = dd.read_csv(\"/data/Gaia/ds.eq.csv\").repartition(npartitions=N).persist()\n",
    "wait(df)\n",
    "client.rebalance()\n",
    "\n",
    "# We also define the names of the columns we want to use for (x,y,z) position\n",
    "posCols = ['x[pc]', 'y[pc]', 'z[pc]']"
   ]
  },
  {
   "cell_type": "markdown",
   "metadata": {},
   "source": [
    "Once the data's loaded and you've done whatever other processing you needed to, we can fire up our `PVRenderActor`s and do some rendering. Each `PVRenderActor` has it's own internal state, which lets us initialize the rendering context once rather than starting from scratch for every frame. We use `client.map` with an input of `N` integers to execute one `PVRenderActor` on every worker. Since Dask is lazy, `client.map` just returns a set of futures. `client.gather` waits on those futures, and returns a list of objects representing the Actor on each node."
   ]
  },
  {
   "cell_type": "code",
   "execution_count": null,
   "metadata": {},
   "outputs": [],
   "source": [
    "from ipyparaview import PVRenderActor\n",
    "renderers = client.gather(client.map(PVRenderActor, range(N), actor=True))"
   ]
  },
  {
   "cell_type": "markdown",
   "metadata": {},
   "source": [
    "`PVRenderActor` is generic; it only sets up common state, so we still need to set up the state as we desire it for our specific case. This is mostly the same as with the single-node Dataframe example, but one initial step of fetching one partition of the dataframe."
   ]
  },
  {
   "cell_type": "code",
   "execution_count": null,
   "metadata": {},
   "outputs": [],
   "source": [
    "# Define a function for remote execution that will set up the ParaView state\n",
    "def workerState(self, df, posCols):\n",
    "    # get the dataframe portion for this rank and create a vtkTable from it\n",
    "    pdf = df.get_partition(self.rank).compute()\n",
    "    import PVGeo\n",
    "    vtkt = PVGeo.interface.data_frame_to_table(pdf)\n",
    "    tbl = self.pvs.TrivialProducer()\n",
    "    tbl.GetClientSideObject().SetOutput(vtkt)\n",
    "    tbl.UpdatePipeline()\n",
    "    print(\"Rank\", self.rank, \"has\", pdf.shape[0], \"stars\")\n",
    "    \n",
    "    # wrap the vtkTable in a producer, then apply a TableToPoints filter\n",
    "    stars = self.pvs.TrivialProducer()\n",
    "    stars.GetClientSideObject().SetOutput(vtkt)\n",
    "    stars.UpdatePipeline()\n",
    "    ttp = self.pvs.TableToPoints(Input=stars)\n",
    "    ttp.XColumn = posCols[0]\n",
    "    ttp.YColumn = posCols[1]\n",
    "    ttp.ZColumn = posCols[2]\n",
    "    \n",
    "    # Create a new 'Render View'\n",
    "    self.renV.ViewSize = [800, 500]\n",
    "    self.renV.CenterOfRotation = [-42.81136055702743, 20.561263821238143, -8.375310213352522]\n",
    "    self.renV.CameraFocalPoint = self.renV.CenterOfRotation\n",
    "    self.renV.CameraPosition = [-19.004408839051408, 78.59672562652541, -351.72329889073706]\n",
    "    self.renV.CameraViewUp = [0,1,0]\n",
    "    self.renV.Background = [0.32, 0.34, 0.43]\n",
    "\n",
    "    # create the color lookup table that we'll use to set star color\n",
    "    plxmasLUT = self.pvs.GetColorTransferFunction('plxmas')\n",
    "    plxmasLUT.RGBPoints = [5.800048770935931, 0.0, 0.0, 0.0, 26.651891986128916, 0.901960784314, 0.0, 0.0, 47.5037352013219, 0.901960784314, 0.901960784314, 0.0, 57.92965680891839, 1.0, 1.0, 1.0]\n",
    "    plxmasLUT.ColorSpace = 'RGB'\n",
    "    plxmasLUT.NanColor = [0.0, 0.498039215686, 1.0]\n",
    "    plxmasLUT.ScalarRangeInitialized = 1.0\n",
    "\n",
    "    # create a Glyph filter to create a sphere for each star\n",
    "    glyph = self.pvs.Glyph(Input=ttp, GlyphType='Sphere')\n",
    "    glyph.ScaleFactor = 29.995732905481237\n",
    "    glyph.GlyphTransform = 'Transform2'\n",
    "    glyph.GlyphMode = 'All Points'\n",
    "    glyph.GlyphType.Radius = 0.025\n",
    "    glyph.GlyphType.ThetaResolution = 180\n",
    "    glyph.GlyphType.PhiResolution = 90\n",
    "    \n",
    "    # notice that we're saving glyphDisplay as Actor state so we can modify it later\n",
    "    self.glyphDisplay = self.pvs.Show(glyph, self.renV)\n",
    "    self.glyphDisplay.Representation = 'Surface'\n",
    "    self.glyphDisplay.ColorArrayName = ['POINTS', 'plx[mas]']\n",
    "    self.glyphDisplay.LookupTable = plxmasLUT\n",
    "\n",
    "    # finally, show the color legend\n",
    "    plxmasLUTColorBar = self.pvs.GetScalarBar(plxmasLUT, self.renV)\n",
    "    plxmasLUTColorBar.Title = 'plx[mas]'\n",
    "    plxmasLUTColorBar.Visibility = 1\n",
    "\n",
    "# Submit the setup function for execution on Dask workers\n",
    "wait([r.run(workerState, [df, posCols]) for r in renderers])"
   ]
  },
  {
   "cell_type": "markdown",
   "metadata": {},
   "source": [
    "And that's it! We can create a `PVDisplay` widget and display it."
   ]
  },
  {
   "cell_type": "code",
   "execution_count": null,
   "metadata": {},
   "outputs": [],
   "source": [
    "from ipyparaview.widgets import PVDisplay\n",
    "w = PVDisplay(renderers)\n",
    "w"
   ]
  },
  {
   "cell_type": "markdown",
   "metadata": {},
   "source": [
    "If we want to modify any state, such as the variable used to color the output, we have to modify that state on the workers. Instead of modifying a local state variable directly like in single-node case, the callback function that we pass to `interact` passes a function to execute remotely. It's a couple extra lines of boilerplate, but otherwise works the same."
   ]
  },
  {
   "cell_type": "code",
   "execution_count": null,
   "metadata": {},
   "outputs": [],
   "source": [
    "varlist = [n for n in list(df.columns) if n not in posCols]\n",
    "\n",
    "def setVar(v):\n",
    "    def workerSetVar(self, v):\n",
    "        self.pvs.ColorBy(self.glyphDisplay, ('POINTS', v))\n",
    "        self.glyphDisplay.RescaleTransferFunctionToDataRange(True, False)\n",
    "        vLUT = self.pvs.GetColorTransferFunction(v)\n",
    "        vLUT.ApplyPreset('Black-Body Radiation', True)\n",
    "    wait([r.run(workerSetVar, [v]) for r in renderers])\n",
    "    w.render()\n",
    "\n",
    "from ipywidgets import interact\n",
    "interact(setVar, v=varlist)"
   ]
  }
 ],
 "metadata": {
  "kernelspec": {
   "display_name": "Python 3",
   "language": "python",
   "name": "python3"
  },
  "language_info": {
   "codemirror_mode": {
    "name": "ipython",
    "version": 3
   },
   "file_extension": ".py",
   "mimetype": "text/x-python",
   "name": "python",
   "nbconvert_exporter": "python",
   "pygments_lexer": "ipython3",
   "version": "3.7.3"
  }
 },
 "nbformat": 4,
 "nbformat_minor": 2
}
