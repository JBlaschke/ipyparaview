{
 "cells": [
  {
   "cell_type": "markdown",
   "metadata": {},
   "source": [
    "# Single-Node Rendering From a Pandas Dataframe\n",
    "This example will be fairly similar to the previous example with a Numpy array, except we'll load and visualize a star dataset. Just like that example, we'll start out by loading up the data."
   ]
  },
  {
   "cell_type": "code",
   "execution_count": null,
   "metadata": {},
   "outputs": [],
   "source": [
    "import pandas as pd\n",
    "df = pd.read_csv(\"/data/Gaia/ds.gal.csv\")\n",
    "\n",
    "try:\n",
    "    import PVGeo\n",
    "except ImportError:\n",
    "    print(\"Error: PVGeo isn't available in the current environment\")\n",
    "    \n",
    "vtkt = PVGeo.interface.data_frame_to_table(df) # vtkTable object with our star data\n",
    "\n",
    "# We also define the names of the columns we want to use for (x,y,z) position\n",
    "posCols = ['x[pc]', 'y[pc]', 'z[pc]']"
   ]
  },
  {
   "cell_type": "markdown",
   "metadata": {},
   "source": [
    "Unlike Numpy, Pandas isn't natively supported in VTK. Luckily, PVGeo has a tool to translate Pandas dataframes to vtkTables. From here, we can move on to setting up the ParaView state. Notice that we're using a more advanced pipeline this time. Once we have the TrivialProducer for the vtkTable, we have to convert it to a set of points, then create a 3D glyph for each point. We also color the points according to the 'plxmas' variable, and display the color legend in the visualization window. Also, since we're using a black body scale to color our stars, we set the background color to something non-black."
   ]
  },
  {
   "cell_type": "code",
   "execution_count": null,
   "metadata": {},
   "outputs": [],
   "source": [
    "from paraview.simple import *\n",
    "paraview.simple._DisableFirstRenderCameraReset()\n",
    "\n",
    "# wrap the vtkTable in a producer, then apply a TableToPoints filter\n",
    "stars = TrivialProducer()\n",
    "stars.GetClientSideObject().SetOutput(vtkt)\n",
    "stars.UpdatePipeline()\n",
    "ttp = TableToPoints(Input=stars)\n",
    "ttp.XColumn = posCols[0]\n",
    "ttp.YColumn = posCols[1]\n",
    "ttp.ZColumn = posCols[2]\n",
    "\n",
    "# Create a new 'Render View'\n",
    "renV = CreateView('RenderView')\n",
    "renV.ViewSize = [800, 500]\n",
    "renV.CenterOfRotation = [-42.81136055702743, 20.561263821238143, -8.375310213352522]\n",
    "renV.CameraFocalPoint = renV.CenterOfRotation\n",
    "renV.CameraPosition = [-19.004408839051408, 78.59672562652541, -351.72329889073706]\n",
    "renV.CameraViewUp = [0,1,0]\n",
    "renV.Background = [0.32, 0.34, 0.43]\n",
    "renV.EnableRayTracing = 1\n",
    "renV.BackEnd = 'OptiX pathtracer'\n",
    "\n",
    "# create the color lookup table that we'll use to set star color\n",
    "plxmasLUT = GetColorTransferFunction('plxmas')\n",
    "plxmasLUT.RGBPoints = [5.800048770935931, 0.0, 0.0, 0.0, 26.651891986128916, 0.901960784314, 0.0, 0.0, 47.5037352013219, 0.901960784314, 0.901960784314, 0.0, 57.92965680891839, 1.0, 1.0, 1.0]\n",
    "plxmasLUT.ColorSpace = 'RGB'\n",
    "plxmasLUT.NanColor = [0.0, 0.498039215686, 1.0]\n",
    "plxmasLUT.ScalarRangeInitialized = 1.0\n",
    "\n",
    "# create a Glyph filter to create a sphere for each star\n",
    "glyph = Glyph(Input=ttp, GlyphType='Sphere')\n",
    "glyph.ScaleFactor = 29.995732905481237\n",
    "glyph.GlyphTransform = 'Transform2'\n",
    "glyph.GlyphMode = 'All Points'\n",
    "glyph.GlyphType.Radius = 0.025\n",
    "glyph.GlyphType.ThetaResolution = 180\n",
    "glyph.GlyphType.PhiResolution = 90\n",
    "glyphDisplay = Show(glyph, renV)\n",
    "glyphDisplay.Representation = 'Surface'\n",
    "glyphDisplay.ColorArrayName = ['POINTS', 'plx[mas]']\n",
    "glyphDisplay.LookupTable = plxmasLUT\n",
    "\n",
    "# finally, show the color legend\n",
    "plxmasLUTColorBar = GetScalarBar(plxmasLUT, renV)\n",
    "plxmasLUTColorBar.Title = 'plx[mas]'\n",
    "plxmasLUTColorBar.Visibility = 1"
   ]
  },
  {
   "cell_type": "markdown",
   "metadata": {},
   "source": [
    "Then, just create a PVDisplay widget and pass it the desired RenderView"
   ]
  },
  {
   "cell_type": "code",
   "execution_count": null,
   "metadata": {},
   "outputs": [],
   "source": [
    "from ipyparaview.widgets import PVDisplay\n",
    "w = PVDisplay(renV)\n",
    "w"
   ]
  },
  {
   "cell_type": "markdown",
   "metadata": {},
   "source": [
    "If we change our minds about the variable we want to color our data by, we can just add an iPython widget to control that."
   ]
  },
  {
   "cell_type": "code",
   "execution_count": null,
   "metadata": {},
   "outputs": [],
   "source": [
    "from ipywidgets import interact\n",
    "\n",
    "def setVar(v):\n",
    "    ColorBy(glyphDisplay, ('POINTS', v))\n",
    "    glyphDisplay.RescaleTransferFunctionToDataRange(True, False)\n",
    "    vLUT = GetColorTransferFunction(v)\n",
    "    vLUT.ApplyPreset('Black-Body Radiation', True)\n",
    "    w.render()\n",
    "\n",
    "varlist = [n for n in list(df.columns) if n not in posCols]\n",
    "interact(setVar, v=varlist)"
   ]
  }
 ],
 "metadata": {
  "kernelspec": {
   "display_name": "Python 3",
   "language": "python",
   "name": "python3"
  },
  "language_info": {
   "codemirror_mode": {
    "name": "ipython",
    "version": 3
   },
   "file_extension": ".py",
   "mimetype": "text/x-python",
   "name": "python",
   "nbconvert_exporter": "python",
   "pygments_lexer": "ipython3",
   "version": "3.7.3"
  }
 },
 "nbformat": 4,
 "nbformat_minor": 2
}
