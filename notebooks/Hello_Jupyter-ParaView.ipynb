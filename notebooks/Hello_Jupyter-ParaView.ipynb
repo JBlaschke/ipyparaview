{
 "cells": [
  {
   "cell_type": "markdown",
   "metadata": {},
   "source": [
    "# ParaView Test\n",
    "This notebook is useful as an extremely minimal, \"hello world\"-type example. It creates a synthetic data source and computes an isosurface mesh from it. Then, it creates a ParaView display widget showing the primary render view. The notebook further demonstrates how the same view can be displayed multiple times, and how multiple RenderViews can be handled."
   ]
  },
  {
   "cell_type": "code",
   "execution_count": null,
   "metadata": {},
   "outputs": [],
   "source": [
    "from paraview.simple import *\n",
    "sphere = Sphere(ThetaResolution=16, PhiResolution=32)\n",
    "shrink = Shrink(sphere)\n",
    "Show(shrink)\n",
    "\n",
    "from ipyparaview.widgets import PVDisplay\n",
    "disp = PVDisplay(GetActiveView())\n",
    "display(disp)"
   ]
  },
  {
   "cell_type": "markdown",
   "metadata": {},
   "source": [
    "Since we have access to the ParaView state from inside the kernel, we can easily inspect and set properties of both the pipeline and display objects. Let's create a simple callback function to change the ShrinkFactor the shrink filter, and create a Jupyter widget to control it interactively."
   ]
  },
  {
   "cell_type": "code",
   "execution_count": null,
   "metadata": {},
   "outputs": [],
   "source": [
    "# Interact from ipywidgets offers us a simple way to interactively control values with a callback function\n",
    "from ipywidgets import interact\n",
    "\n",
    "# sets the isosurface value, triggers a pipeline update, and renders the result\n",
    "def setShrink(factor):\n",
    "    shrink.ShrinkFactor = factor\n",
    "    shrink.UpdatePipeline()\n",
    "    \n",
    "interact(setShrink, factor=shrink.ShrinkFactor, min=0.0, max=1.0)"
   ]
  },
  {
   "cell_type": "markdown",
   "metadata": {},
   "source": [
    "Because of how Jupyter widgets are structured, we can display the same widget multiple times without creating multiple copies of it. This makes structuring your notebooks easier by letting you display the widget wherever it is relevant."
   ]
  },
  {
   "cell_type": "code",
   "execution_count": null,
   "metadata": {},
   "outputs": [],
   "source": [
    "display(disp)"
   ]
  },
  {
   "cell_type": "markdown",
   "metadata": {},
   "source": [
    "If you want to visualize some different data, or visualize your data in a different way, you can create another RenderView and PVDisplay for it."
   ]
  },
  {
   "cell_type": "code",
   "execution_count": null,
   "metadata": {},
   "outputs": [],
   "source": [
    "renv2 = CreateView('RenderView')\n",
    "\n",
    "wavelet = Wavelet()\n",
    "\n",
    "contour = Contour(Input=wavelet)\n",
    "contour.ContourBy = ['POINTS', 'RTData']\n",
    "contour.Isosurfaces = [157]\n",
    "\n",
    "Show(contour, renv2)\n",
    "\n",
    "PVDisplay(renv2)"
   ]
  }
 ],
 "metadata": {
  "kernelspec": {
   "display_name": "Python 3",
   "language": "python",
   "name": "python3"
  },
  "language_info": {
   "codemirror_mode": {
    "name": "ipython",
    "version": 3
   },
   "file_extension": ".py",
   "mimetype": "text/x-python",
   "name": "python",
   "nbconvert_exporter": "python",
   "pygments_lexer": "ipython3",
   "version": "3.8.1"
  }
 },
 "nbformat": 4,
 "nbformat_minor": 4
}
