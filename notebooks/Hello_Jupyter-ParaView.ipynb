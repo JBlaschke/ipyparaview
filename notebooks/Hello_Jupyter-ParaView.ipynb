{
 "cells": [
  {
   "cell_type": "markdown",
   "metadata": {},
   "source": [
    "# ParaView Test\n",
    "This notebook is useful as an extremely minimal, \"hello world\"-type example. It creates a synthetic data source and computes an isosurface mesh from it. Then, it creates a ParaView display widget showing the primary render view."
   ]
  },
  {
   "cell_type": "code",
   "execution_count": null,
   "metadata": {},
   "outputs": [],
   "source": [
    "import paraview\n",
    "from paraview.simple import *\n",
    "\n",
    "# create the primary 'Render View'\n",
    "renV = CreateView('RenderView')\n",
    "renV.ViewSize = [800, 500]\n",
    "renV.CenterOfRotation = [0,0,0]               #\n",
    "renV.CameraFocalPoint = renV.CenterOfRotation #\n",
    "renV.CameraPosition = [50, 0, 0]              # Initial camera settings\n",
    "renV.CameraViewUp = [0, 1.0, 0]               #\n",
    "renV.Background = [0.32, 0.34, 0.43]\n",
    "\n",
    "# create a new 'Wavelet'\n",
    "wavelet = Wavelet()\n",
    "\n",
    "# create a new 'Contour' filter to compute an isosurface from our volume\n",
    "contour = Contour(Input=wavelet)\n",
    "contour.ContourBy = ['POINTS', 'RTData']\n",
    "contour.Isosurfaces = [157.0909652709961]\n",
    "contour.UpdatePipeline()\n",
    "contourDisplay = Show(contour, renV)\n",
    "contourDisplay.Representation = 'Surface'\n",
    "contourDisplay.AmbientColor = contourDisplay.DiffuseColor = [0.286, 0.851, 0.114]\n",
    "\n",
    "# import the PVDispaly widget, then instantiate one for renV\n",
    "from ipyparaview.widgets import PVDisplay\n",
    "PVDisplay(renV)"
   ]
  }
 ],
 "metadata": {
  "kernelspec": {
   "display_name": "Python 3",
   "language": "python",
   "name": "python3"
  },
  "language_info": {
   "codemirror_mode": {
    "name": "ipython",
    "version": 3
   },
   "file_extension": ".py",
   "mimetype": "text/x-python",
   "name": "python",
   "nbconvert_exporter": "python",
   "pygments_lexer": "ipython3",
   "version": "3.7.3"
  }
 },
 "nbformat": 4,
 "nbformat_minor": 2
}
