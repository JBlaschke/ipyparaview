{
 "cells": [
  {
   "cell_type": "markdown",
   "metadata": {},
   "source": [
    "# ParaView Test\n",
    "This notebook is useful as an extremely minimal, \"hello world\"-type example. It creates a synthetic data source and computes an isosurface mesh from it. Then, it creates a ParaView display widget showing the primary render view. The notebook further demonstrates how the same view can be displayed multiple times, and how multiple RenderViews can be handled."
   ]
  },
  {
   "cell_type": "code",
   "execution_count": null,
   "metadata": {},
   "outputs": [],
   "source": [
    "import paraview\n",
    "from paraview.simple import *\n",
    "\n",
    "# create the primary 'Render View'\n",
    "renV = CreateView('RenderView')\n",
    "renV.ViewSize = [800, 500]\n",
    "renV.CameraPosition = [50, 0, 0] # Initial camera settings\n",
    "renV.CameraViewUp = [0, 1.0, 0]  #\n",
    "\n",
    "# create a new 'Wavelet'\n",
    "wavelet = Wavelet()\n",
    "\n",
    "# create a new 'Contour' filter to compute an isosurface from our volume\n",
    "contour = Contour(Input=wavelet)\n",
    "contour.ContourBy = ['POINTS', 'RTData']\n",
    "contour.Isosurfaces = [157.0909652709961]\n",
    "contour.UpdatePipeline()\n",
    "\n",
    "# create the visual representation object for the contour\n",
    "contourDisplay = Show(contour, renV)\n",
    "contourDisplay.Representation = 'Surface'\n",
    "contourDisplay.AmbientColor = contourDisplay.DiffuseColor = [0.286, 0.851, 0.114]\n",
    "\n",
    "# import the PVDisplay widget, then instantiate one for renV\n",
    "from ipyparaview.widgets import PVDisplay\n",
    "disp = PVDisplay(renV)\n",
    "\n",
    "# show the widget once\n",
    "display(disp)"
   ]
  },
  {
   "cell_type": "code",
   "execution_count": null,
   "metadata": {},
   "outputs": [],
   "source": [
    "# show the same widget again\n",
    "display(disp)"
   ]
  },
  {
   "cell_type": "code",
   "execution_count": null,
   "metadata": {},
   "outputs": [],
   "source": [
    "# create a second 'Render View'\n",
    "renV2 = CreateView('RenderView')\n",
    "renV2.ViewSize = [800, 500]\n",
    "renV2.CameraPosition = [50, 0, 0] # Initial camera settings\n",
    "renV2.CameraViewUp = [0, 1.0, 0]  #\n",
    "\n",
    "# create a new 'Contour' filter to compute an isosurface from our volume\n",
    "contour2 = Contour(Input=wavelet)\n",
    "contour2.ContourBy = ['POINTS', 'RTData']\n",
    "contour2.Isosurfaces = [50, 75, 100, 125]\n",
    "contour2.UpdatePipeline()\n",
    "\n",
    "# create the visual representation object for the contour\n",
    "contour2Display = Show(contour2, renV2)\n",
    "contour2Display.Representation = 'Surface'\n",
    "contour2Display.AmbientColor = contourDisplay.DiffuseColor = [0.286, 0.851, 0.114]\n",
    "\n",
    "disp2 = PVDisplay(renV2)\n",
    "display(disp2)"
   ]
  }
 ],
 "metadata": {
  "kernelspec": {
   "display_name": "Python 3",
   "language": "python",
   "name": "python3"
  },
  "language_info": {
   "codemirror_mode": {
    "name": "ipython",
    "version": 3
   },
   "file_extension": ".py",
   "mimetype": "text/x-python",
   "name": "python",
   "nbconvert_exporter": "python",
   "pygments_lexer": "ipython3",
   "version": "3.7.2"
  }
 },
 "nbformat": 4,
 "nbformat_minor": 2
}
